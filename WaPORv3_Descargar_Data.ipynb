{
  "cells": [
    {
      "cell_type": "markdown",
      "metadata": {
        "id": "view-in-github",
        "colab_type": "text"
      },
      "source": [
        "<a href=\"https://colab.research.google.com/github/HectorRPabon/Colab/blob/main/WaPORv3_Descargar_Data.ipynb\" target=\"_parent\"><img src=\"https://colab.research.google.com/assets/colab-badge.svg\" alt=\"Open In Colab\"/></a>"
      ]
    },
    {
      "cell_type": "markdown",
      "source": [
        "# Descarga de datos del departamento del Cauca de WaPOR v3 utilizando Python.\n"
      ],
      "metadata": {
        "id": "1Bnqv76ZI_vX"
      }
    },
    {
      "cell_type": "markdown",
      "source": [
        "---"
      ],
      "metadata": {
        "id": "NgCevn2CJENj"
      }
    },
    {
      "cell_type": "markdown",
      "metadata": {
        "id": "GaiJb9WBsgBc"
      },
      "source": [
        "En este cuaderno utilizaremos el [paquete wapordl](https://bitbucket.org/cioapps/wapordl/src/main/) puesto a disposición por la FAO para descargar datos de WaPOR v3 y descargar archivos a su computadora local. Este breve [video](https://www.youtube.com/watch?v=ymBM_EVPEMQ) explica cómo utilizar este script. Para obtener más información sobre cómo utilizar los datos descargados de WaPOR v3, consulte el [Curso en línea masivo y abierto sobre introducción a WaPORv3](https://ocw.un-ihe.org/course/view.php?id=269) (en español).\n",
        "\n",
        "   \n",
        "Los pasos son los siguientes:\n",
        "\n",
        "0. Instalar y cargar los paquetes necesarios\n",
        "1. Cargar un archivo `.geojson` que define el límite del área de interés\n",
        "2. Utilizar el paquete `wapordl` para descargar archivos ráster para cada variable\n",
        "3. Comprimir los archivos ráster y descargarlos a una carpeta local\n",
        "\n",
        "Este script utiliza Google Drive, pero se puede utilizar sin necesidad de [conectar](https://colab.research.google.com/notebooks/snippets/drive.ipynb) Google Colab con su Google Drive. Si desea utilizar archivos almacenados en su Google Drive o guardar los archivos allí, primero debe conectar el script.\n",
        "\n",
        "**NOTA**: Este script permite descargar datos WaPOR en archivos TIFF separados utilizando la convención de nombres WaPOR. Versiones anteriores requerían el uso del factor de escala, que ya no se requiere. Este código crea datos en unidades que difieren según la escala temporal de los datos (por ejemplo, los datos decadales se convierten de mm/día a mm/dekade). Para obtener más información sobre los formatos de datos WaPOR, consulte este [video](https://www.youtube.com/watch?v=nm5IAy4MHg4). La eliminación del factor de escala aumenta el tamaño del archivo; para usuarios más avanzados, consulte el [paquete wapordl](https://bitbucket.org/cioapps/wapordl/src/main/), creado por la FAO, para explorar más formas de descargar datos WaPORv3 (incluida una opción para descargar un archivo con valores escalados en múltiples bandas para ahorrar espacio; en este caso, tenga en cuenta que el factor de escala debe aplicarse al utilizar dichos datos).\n",
        "\n",
        " © 2024 IHE Delft Licenced under CC BY SA Creative Commons"
      ]
    },
    {
      "cell_type": "markdown",
      "metadata": {
        "id": "E1Q79xi9IqgQ"
      },
      "source": [
        "\n",
        "\n",
        "---\n",
        "\n"
      ]
    },
    {
      "cell_type": "markdown",
      "metadata": {
        "id": "uirLoQBqA-Hs"
      },
      "source": [
        "## **Paso 0: instalar y cargar los paquetes necesarios**\n",
        "A modo de comprobación, también le informamos la versión de `wapordl` que está usando (se utiliza para ayudar a la solución de un posible error de ejecución)"
      ]
    },
    {
      "cell_type": "code",
      "execution_count": null,
      "metadata": {
        "id": "3-CeI7rls2_4"
      },
      "outputs": [],
      "source": [
        "%%capture\n",
        "!pip install --upgrade wapordl --quiet"
      ]
    },
    {
      "cell_type": "code",
      "execution_count": null,
      "metadata": {
        "id": "74qweMAtU5C1",
        "colab": {
          "base_uri": "https://localhost:8080/"
        },
        "outputId": "6441d8f2-f506-49aa-a10c-f369739f50f1"
      },
      "outputs": [
        {
          "output_type": "stream",
          "name": "stderr",
          "text": [
            "INFO: WaPORDL (`1.1.2`)\n"
          ]
        },
        {
          "output_type": "stream",
          "name": "stdout",
          "text": [
            "1.1.2\n"
          ]
        }
      ],
      "source": [
        "import wapordl\n",
        "print(wapordl.__version__)"
      ]
    },
    {
      "cell_type": "markdown",
      "metadata": {
        "id": "5ZGHVNmRs6Bs"
      },
      "source": [
        "#### Importar y cargar los paquetes necesarios"
      ]
    },
    {
      "cell_type": "code",
      "execution_count": null,
      "metadata": {
        "id": "T3EBB-5f7mcP",
        "colab": {
          "base_uri": "https://localhost:8080/"
        },
        "outputId": "b6b0e4b2-9e97-4f2a-9109-bfac16435270"
      },
      "outputs": [
        {
          "output_type": "stream",
          "name": "stderr",
          "text": [
            "INFO: WaPORDL (`1.1.2`)\n"
          ]
        }
      ],
      "source": [
        "# from osgeo import gdal\n",
        "import glob\n",
        "import os\n",
        "from wapordl import wapor_map\n",
        "from wapordl import wapor_ts"
      ]
    },
    {
      "cell_type": "markdown",
      "metadata": {
        "id": "llH9UoaqIsAN"
      },
      "source": [
        "\n",
        "\n",
        "---\n",
        "\n"
      ]
    },
    {
      "cell_type": "markdown",
      "metadata": {
        "id": "rtlfEcFHBTUy"
      },
      "source": [
        "## **Paso 1: cargue un archivo `geojson` para definir el límite del área de interés**\n",
        "El área de interés se puede definir proporcionando un archivo `geojson` o las coordenadas de un cuadrado delimitador del área de interés. En este paso, cargaremos un archivo `geojson`. Si decide utilizar el enfoque del cuadrado delimitador, puede omitir este paso.\n",
        "\n",
        "**NOTA**: actualmente `wapordl` solo admite el formato de archivo `geojson`. Si tiene un archivo en otro formato, puede utilizar QGIS para exportarlo como `geojson`.\n"
      ]
    },
    {
      "cell_type": "code",
      "execution_count": null,
      "metadata": {
        "id": "DI1-Uc7JQETk",
        "colab": {
          "base_uri": "https://localhost:8080/",
          "height": 73
        },
        "outputId": "428867f6-21f9-4458-831c-aed0404267e0"
      },
      "outputs": [
        {
          "output_type": "display_data",
          "data": {
            "text/plain": [
              "<IPython.core.display.HTML object>"
            ],
            "text/html": [
              "\n",
              "     <input type=\"file\" id=\"files-b6317f08-97a0-4a58-b2f7-cf927d2552c3\" name=\"files[]\" multiple disabled\n",
              "        style=\"border:none\" />\n",
              "     <output id=\"result-b6317f08-97a0-4a58-b2f7-cf927d2552c3\">\n",
              "      Upload widget is only available when the cell has been executed in the\n",
              "      current browser session. Please rerun this cell to enable.\n",
              "      </output>\n",
              "      <script>// Copyright 2017 Google LLC\n",
              "//\n",
              "// Licensed under the Apache License, Version 2.0 (the \"License\");\n",
              "// you may not use this file except in compliance with the License.\n",
              "// You may obtain a copy of the License at\n",
              "//\n",
              "//      http://www.apache.org/licenses/LICENSE-2.0\n",
              "//\n",
              "// Unless required by applicable law or agreed to in writing, software\n",
              "// distributed under the License is distributed on an \"AS IS\" BASIS,\n",
              "// WITHOUT WARRANTIES OR CONDITIONS OF ANY KIND, either express or implied.\n",
              "// See the License for the specific language governing permissions and\n",
              "// limitations under the License.\n",
              "\n",
              "/**\n",
              " * @fileoverview Helpers for google.colab Python module.\n",
              " */\n",
              "(function(scope) {\n",
              "function span(text, styleAttributes = {}) {\n",
              "  const element = document.createElement('span');\n",
              "  element.textContent = text;\n",
              "  for (const key of Object.keys(styleAttributes)) {\n",
              "    element.style[key] = styleAttributes[key];\n",
              "  }\n",
              "  return element;\n",
              "}\n",
              "\n",
              "// Max number of bytes which will be uploaded at a time.\n",
              "const MAX_PAYLOAD_SIZE = 100 * 1024;\n",
              "\n",
              "function _uploadFiles(inputId, outputId) {\n",
              "  const steps = uploadFilesStep(inputId, outputId);\n",
              "  const outputElement = document.getElementById(outputId);\n",
              "  // Cache steps on the outputElement to make it available for the next call\n",
              "  // to uploadFilesContinue from Python.\n",
              "  outputElement.steps = steps;\n",
              "\n",
              "  return _uploadFilesContinue(outputId);\n",
              "}\n",
              "\n",
              "// This is roughly an async generator (not supported in the browser yet),\n",
              "// where there are multiple asynchronous steps and the Python side is going\n",
              "// to poll for completion of each step.\n",
              "// This uses a Promise to block the python side on completion of each step,\n",
              "// then passes the result of the previous step as the input to the next step.\n",
              "function _uploadFilesContinue(outputId) {\n",
              "  const outputElement = document.getElementById(outputId);\n",
              "  const steps = outputElement.steps;\n",
              "\n",
              "  const next = steps.next(outputElement.lastPromiseValue);\n",
              "  return Promise.resolve(next.value.promise).then((value) => {\n",
              "    // Cache the last promise value to make it available to the next\n",
              "    // step of the generator.\n",
              "    outputElement.lastPromiseValue = value;\n",
              "    return next.value.response;\n",
              "  });\n",
              "}\n",
              "\n",
              "/**\n",
              " * Generator function which is called between each async step of the upload\n",
              " * process.\n",
              " * @param {string} inputId Element ID of the input file picker element.\n",
              " * @param {string} outputId Element ID of the output display.\n",
              " * @return {!Iterable<!Object>} Iterable of next steps.\n",
              " */\n",
              "function* uploadFilesStep(inputId, outputId) {\n",
              "  const inputElement = document.getElementById(inputId);\n",
              "  inputElement.disabled = false;\n",
              "\n",
              "  const outputElement = document.getElementById(outputId);\n",
              "  outputElement.innerHTML = '';\n",
              "\n",
              "  const pickedPromise = new Promise((resolve) => {\n",
              "    inputElement.addEventListener('change', (e) => {\n",
              "      resolve(e.target.files);\n",
              "    });\n",
              "  });\n",
              "\n",
              "  const cancel = document.createElement('button');\n",
              "  inputElement.parentElement.appendChild(cancel);\n",
              "  cancel.textContent = 'Cancel upload';\n",
              "  const cancelPromise = new Promise((resolve) => {\n",
              "    cancel.onclick = () => {\n",
              "      resolve(null);\n",
              "    };\n",
              "  });\n",
              "\n",
              "  // Wait for the user to pick the files.\n",
              "  const files = yield {\n",
              "    promise: Promise.race([pickedPromise, cancelPromise]),\n",
              "    response: {\n",
              "      action: 'starting',\n",
              "    }\n",
              "  };\n",
              "\n",
              "  cancel.remove();\n",
              "\n",
              "  // Disable the input element since further picks are not allowed.\n",
              "  inputElement.disabled = true;\n",
              "\n",
              "  if (!files) {\n",
              "    return {\n",
              "      response: {\n",
              "        action: 'complete',\n",
              "      }\n",
              "    };\n",
              "  }\n",
              "\n",
              "  for (const file of files) {\n",
              "    const li = document.createElement('li');\n",
              "    li.append(span(file.name, {fontWeight: 'bold'}));\n",
              "    li.append(span(\n",
              "        `(${file.type || 'n/a'}) - ${file.size} bytes, ` +\n",
              "        `last modified: ${\n",
              "            file.lastModifiedDate ? file.lastModifiedDate.toLocaleDateString() :\n",
              "                                    'n/a'} - `));\n",
              "    const percent = span('0% done');\n",
              "    li.appendChild(percent);\n",
              "\n",
              "    outputElement.appendChild(li);\n",
              "\n",
              "    const fileDataPromise = new Promise((resolve) => {\n",
              "      const reader = new FileReader();\n",
              "      reader.onload = (e) => {\n",
              "        resolve(e.target.result);\n",
              "      };\n",
              "      reader.readAsArrayBuffer(file);\n",
              "    });\n",
              "    // Wait for the data to be ready.\n",
              "    let fileData = yield {\n",
              "      promise: fileDataPromise,\n",
              "      response: {\n",
              "        action: 'continue',\n",
              "      }\n",
              "    };\n",
              "\n",
              "    // Use a chunked sending to avoid message size limits. See b/62115660.\n",
              "    let position = 0;\n",
              "    do {\n",
              "      const length = Math.min(fileData.byteLength - position, MAX_PAYLOAD_SIZE);\n",
              "      const chunk = new Uint8Array(fileData, position, length);\n",
              "      position += length;\n",
              "\n",
              "      const base64 = btoa(String.fromCharCode.apply(null, chunk));\n",
              "      yield {\n",
              "        response: {\n",
              "          action: 'append',\n",
              "          file: file.name,\n",
              "          data: base64,\n",
              "        },\n",
              "      };\n",
              "\n",
              "      let percentDone = fileData.byteLength === 0 ?\n",
              "          100 :\n",
              "          Math.round((position / fileData.byteLength) * 100);\n",
              "      percent.textContent = `${percentDone}% done`;\n",
              "\n",
              "    } while (position < fileData.byteLength);\n",
              "  }\n",
              "\n",
              "  // All done.\n",
              "  yield {\n",
              "    response: {\n",
              "      action: 'complete',\n",
              "    }\n",
              "  };\n",
              "}\n",
              "\n",
              "scope.google = scope.google || {};\n",
              "scope.google.colab = scope.google.colab || {};\n",
              "scope.google.colab._files = {\n",
              "  _uploadFiles,\n",
              "  _uploadFilesContinue,\n",
              "};\n",
              "})(self);\n",
              "</script> "
            ]
          },
          "metadata": {}
        },
        {
          "output_type": "stream",
          "name": "stdout",
          "text": [
            "Saving Mpios_Cauca.geojson to Mpios_Cauca.geojson\n"
          ]
        }
      ],
      "source": [
        "#To upload file.\n",
        "from google.colab import files\n",
        "uploaded = files.upload()"
      ]
    },
    {
      "cell_type": "markdown",
      "metadata": {
        "id": "XPNh8UgrBt_A"
      },
      "source": [
        "Si el script no se ejecuta, verifique si el `geojson` está en formato 2D. (`Shapely` actualmente no admite geometrías 3D, por lo que la solución alternativa es [convertir su geometría de 3D a 2D](https://gis.stackexchange.com/questions/255540/convert-3d-shapefile-to-2d-in-qgis))."
      ]
    },
    {
      "cell_type": "markdown",
      "metadata": {
        "id": "SAHKRORqItft"
      },
      "source": [
        "\n",
        "\n",
        "---\n",
        "\n"
      ]
    },
    {
      "cell_type": "markdown",
      "metadata": {
        "id": "JTwt1Ng6CUaq"
      },
      "source": [
        "## **Paso 2: usar el paquete `wapordl` para descargar archivos ráster para cada variable**\n",
        "\n",
        "Para usar el paquete `wapordl` para descargar datos de WaPOR, debe definir:\n",
        "  1. el área de interés (ya sea en un archivo `geojson` o en un cuadro delimitador definido como [xmin, ymin, xmax, ymax]),\n",
        "  2. las variables a descargar y el período de tiempo\n",
        "  3. la carpeta donde guardar los archivos descargados\n",
        "\n",
        "Las variables que se pueden descargar incluyen AETI (evapotranspiración e intercepción reales), T (transpiración), I (intercepción), E (evaporación), NPP (producto primario neto), PCP (precipitación), RET (evapotranspiración de referencia) y RSM (humedad relativa del suelo).\n",
        "\n",
        "Además, hay tres niveles de datos de WaPOR (L1, L2 y L3) relacionados con la resolución de los datos.\n",
        "\n",
        "En términos de resolución temporal, diario (E), decadal (D), mensual (M) y anual (A). Consulte en el [portal WaPOR](https://data.apps.fao.org/wapor/?lang=es) en qué resolución temporal están disponibles los datos que desea descargar.\n",
        "\n",
        "Consulte la **[descripción general de WaPOR](https://www.fao.org/in-action/remote-sensing-for-water-productivity/wapor-data/es)** para obtener más información sobre los datos de WaPOR, su cobertura espacial y temporal y el contenido de la base de datos. Para conocer la convención de nomenclatura de las variables de WaPOR, consulte la imagen siguiente.\n",
        "\n",
        "![](https://raw.githubusercontent.com/wateraccounting/WaPORMOOC/main/images/WaPOR%20naming%20conventions_update.jpg)"
      ]
    },
    {
      "cell_type": "code",
      "execution_count": null,
      "metadata": {
        "id": "Fhrwhd5JQCLT",
        "colab": {
          "base_uri": "https://localhost:8080/"
        },
        "outputId": "9dc4a6be-febe-489a-d6d8-f0bb24af7e70"
      },
      "outputs": [
        {
          "output_type": "stream",
          "name": "stderr",
          "text": [
            "WARNING: Reprojecting `Mpios_Cauca.geojson` [EPSG:4326, 3D] to `Mpios_Cauca_reprojected.geojson` [EPSG:4326, 2D].\n",
            "INFO: Found 13 files for L2-AETI-M.\n",
            "INFO: Units are already as requested, no conversion needed.\n",
            "INFO: Splitting single GeoTIFF into multiple unscaled files.\n",
            "WARNING: Reprojecting `Mpios_Cauca.geojson` [EPSG:4326, 3D] to `Mpios_Cauca_reprojected.geojson` [EPSG:4326, 2D].\n",
            "INFO: Found 13 files for L2-NPP-M.\n",
            "INFO: Units are already as requested, no conversion needed.\n",
            "INFO: Splitting single GeoTIFF into multiple unscaled files.\n"
          ]
        }
      ],
      "source": [
        "# 1) Definir región (eliminar el comentario (#) de la opción que se desea utilizar)\n",
        "# Definir región mediante un archivo geojson (si se utiliza un archivo almacenado en Google Drive, agregar la ruta relativa aquí)\n",
        "region = r\"/content/Mpios_Cauca.geojson\"\n",
        "\n",
        "# definir región en el cuadro delimitador\n",
        "# region = [39.17, 8.32, 39.37, 8.50] # [xmin, ymin, xmax, ymax]\n",
        "\n",
        "# 2) definir las variables y el periodo de tiempo para descargar\n",
        "variables = [\"L2-AETI-M\",\"L2-NPP-M\"] #, \"L3-T-D\"]\n",
        "period = [\"2024-03-01\", \"2025-03-30\"]\n",
        "overview = \"NONE\"\n",
        "\n",
        "for var in variables:\n",
        "\n",
        "#3) Define una carpeta para guardar los rásteres descargados (esto creará una carpeta temporal llamada output. Si quiere que los datos se almacenen en otro lugar cambie la ruta, esto requiere conectar colab con Google drive)\n",
        "  folder = r\"/content/output\"+f\"/{var}\"\n",
        "  if not os.path.exists(folder):\n",
        "          os.makedirs(folder)\n",
        "\n",
        "  if('-E' in var):\n",
        "    unit = \"day\"\n",
        "  elif('-D' in var):\n",
        "    unit = \"dekad\"\n",
        "  elif('-M' in var):\n",
        "    unit = \"month\"\n",
        "  elif ('-A' in var):\n",
        "    unit = \"year\"\n",
        "  else:\n",
        "    unit = \"none\"\n",
        "\n",
        "  fps = wapor_map(region, var, period, folder, separate_unscale = True, unit_conversion = unit)\n"
      ]
    },
    {
      "cell_type": "markdown",
      "metadata": {
        "id": "i2uG2PhMIvJ9"
      },
      "source": [
        "\n",
        "Los archivos raster se encuentran en la carpeta de salida y se pueden descargar manualmente. También puede ir al paso 3 para utilizar un script para la descarga.\n",
        "\n"
      ]
    },
    {
      "cell_type": "markdown",
      "metadata": {
        "id": "jF9sxQquGtoH"
      },
      "source": [
        "## **Paso 3: comprima los archivos raster y descárguelos en una carpeta local**\n",
        "\n",
        "Este script comprimirá el contenido de la carpeta de salida y descargará el archivo comprimido en nuestra computadora local ejecutando la siguiente celda.\n",
        "\n",
        "*NOTA*: actualice las extensiones si ha cambiado la ubicación del archivo de salida."
      ]
    },
    {
      "cell_type": "code",
      "source": [
        "from google.colab import drive\n",
        "drive.mount('/content/drive')"
      ],
      "metadata": {
        "colab": {
          "base_uri": "https://localhost:8080/"
        },
        "id": "eGGUXiCPssLv",
        "outputId": "d8de4224-4c98-4a88-b962-9ae783bc8c81"
      },
      "execution_count": null,
      "outputs": [
        {
          "output_type": "stream",
          "name": "stdout",
          "text": [
            "Mounted at /content/drive\n"
          ]
        }
      ]
    },
    {
      "cell_type": "code",
      "execution_count": null,
      "metadata": {
        "id": "9isKZdEm9mUs",
        "colab": {
          "base_uri": "https://localhost:8080/",
          "height": 839
        },
        "outputId": "e0795ea5-fd39-4a37-c50c-53b34d07da6e"
      },
      "outputs": [
        {
          "output_type": "stream",
          "name": "stdout",
          "text": [
            "  adding: content/output/ (stored 0%)\n",
            "  adding: content/output/L2-NPP-M/ (stored 0%)\n",
            "  adding: content/output/L2-NPP-M/Mpios_Cauca_L2-NPP-M_NONE_month_2024-05-01.tif (deflated 5%)\n",
            "  adding: content/output/L2-NPP-M/Mpios_Cauca_L2-NPP-M_NONE_month_2024-08-01.tif (deflated 5%)\n",
            "  adding: content/output/L2-NPP-M/Mpios_Cauca_L2-NPP-M_NONE_month_2024-03-01.tif (deflated 5%)\n",
            "  adding: content/output/L2-NPP-M/Mpios_Cauca_L2-NPP-M_NONE_month_2024-04-01.tif (deflated 6%)\n",
            "  adding: content/output/L2-NPP-M/Mpios_Cauca_L2-NPP-M_NONE_month_2024-09-01.tif (deflated 6%)\n",
            "  adding: content/output/L2-NPP-M/Mpios_Cauca_L2-NPP-M_NONE_month_2024-06-01.tif (deflated 6%)\n",
            "  adding: content/output/L2-NPP-M/Mpios_Cauca_L2-NPP-M_NONE_month_2025-01-01.tif (deflated 5%)\n",
            "  adding: content/output/L2-NPP-M/Mpios_Cauca_L2-NPP-M_NONE_month_2024-11-01.tif (deflated 6%)\n",
            "  adding: content/output/L2-NPP-M/Mpios_Cauca_L2-NPP-M_NONE_month_2025-03-01.tif (deflated 5%)\n",
            "  adding: content/output/L2-NPP-M/Mpios_Cauca_L2-NPP-M_NONE_month_2024-10-01.tif (deflated 5%)\n",
            "  adding: content/output/L2-NPP-M/Mpios_Cauca_L2-NPP-M_NONE_month_2024-12-01.tif (deflated 6%)\n",
            "  adding: content/output/L2-NPP-M/Mpios_Cauca_L2-NPP-M_NONE_month_2025-02-01.tif (deflated 5%)\n",
            "  adding: content/output/L2-NPP-M/Mpios_Cauca_L2-NPP-M_NONE_month_2024-07-01.tif (deflated 5%)\n",
            "  adding: content/output/L2-AETI-M/ (stored 0%)\n",
            "  adding: content/output/L2-AETI-M/Mpios_Cauca_L2-AETI-M_NONE_month_2024-06-01.tif (deflated 14%)\n",
            "  adding: content/output/L2-AETI-M/Mpios_Cauca_L2-AETI-M_NONE_month_2024-12-01.tif (deflated 10%)\n",
            "  adding: content/output/L2-AETI-M/Mpios_Cauca_L2-AETI-M_NONE_month_2025-03-01.tif (deflated 9%)\n",
            "  adding: content/output/L2-AETI-M/Mpios_Cauca_L2-AETI-M_NONE_month_2024-10-01.tif (deflated 10%)\n",
            "  adding: content/output/L2-AETI-M/Mpios_Cauca_L2-AETI-M_NONE_month_2024-05-01.tif (deflated 10%)\n",
            "  adding: content/output/L2-AETI-M/Mpios_Cauca_L2-AETI-M_NONE_month_2025-01-01.tif (deflated 10%)\n",
            "  adding: content/output/L2-AETI-M/Mpios_Cauca_L2-AETI-M_NONE_month_2025-02-01.tif (deflated 10%)\n",
            "  adding: content/output/L2-AETI-M/Mpios_Cauca_L2-AETI-M_NONE_month_2024-08-01.tif (deflated 10%)\n",
            "  adding: content/output/L2-AETI-M/Mpios_Cauca_L2-AETI-M_NONE_month_2024-04-01.tif (deflated 14%)\n",
            "  adding: content/output/L2-AETI-M/Mpios_Cauca_L2-AETI-M_NONE_month_2024-03-01.tif (deflated 10%)\n",
            "  adding: content/output/L2-AETI-M/Mpios_Cauca_L2-AETI-M_NONE_month_2024-11-01.tif (deflated 14%)\n",
            "  adding: content/output/L2-AETI-M/Mpios_Cauca_L2-AETI-M_NONE_month_2024-07-01.tif (deflated 9%)\n",
            "  adding: content/output/L2-AETI-M/Mpios_Cauca_L2-AETI-M_NONE_month_2024-09-01.tif (deflated 14%)\n"
          ]
        },
        {
          "output_type": "error",
          "ename": "FileNotFoundError",
          "evalue": "Cannot find file: /content/datav3.zip",
          "traceback": [
            "\u001b[0;31m---------------------------------------------------------------------------\u001b[0m",
            "\u001b[0;31mFileNotFoundError\u001b[0m                         Traceback (most recent call last)",
            "\u001b[0;32m<ipython-input-5-ce4e6730c636>\u001b[0m in \u001b[0;36m<cell line: 0>\u001b[0;34m()\u001b[0m\n\u001b[1;32m      1\u001b[0m \u001b[0mget_ipython\u001b[0m\u001b[0;34m(\u001b[0m\u001b[0;34m)\u001b[0m\u001b[0;34m.\u001b[0m\u001b[0msystem\u001b[0m\u001b[0;34m(\u001b[0m\u001b[0;34m'zip -r /content/data.zip /content/output'\u001b[0m\u001b[0;34m)\u001b[0m\u001b[0;34m\u001b[0m\u001b[0;34m\u001b[0m\u001b[0m\n\u001b[1;32m      2\u001b[0m \u001b[0;32mfrom\u001b[0m \u001b[0mgoogle\u001b[0m\u001b[0;34m.\u001b[0m\u001b[0mcolab\u001b[0m \u001b[0;32mimport\u001b[0m \u001b[0mfiles\u001b[0m\u001b[0;34m\u001b[0m\u001b[0;34m\u001b[0m\u001b[0m\n\u001b[0;32m----> 3\u001b[0;31m \u001b[0mfiles\u001b[0m\u001b[0;34m.\u001b[0m\u001b[0mdownload\u001b[0m\u001b[0;34m(\u001b[0m\u001b[0;34mr'/content/datav3.zip'\u001b[0m\u001b[0;34m)\u001b[0m\u001b[0;34m\u001b[0m\u001b[0;34m\u001b[0m\u001b[0m\n\u001b[0m",
            "\u001b[0;32m/usr/local/lib/python3.11/dist-packages/google/colab/files.py\u001b[0m in \u001b[0;36mdownload\u001b[0;34m(filename)\u001b[0m\n\u001b[1;32m    231\u001b[0m   \u001b[0;32mif\u001b[0m \u001b[0;32mnot\u001b[0m \u001b[0m_os\u001b[0m\u001b[0;34m.\u001b[0m\u001b[0mpath\u001b[0m\u001b[0;34m.\u001b[0m\u001b[0mexists\u001b[0m\u001b[0;34m(\u001b[0m\u001b[0mfilename\u001b[0m\u001b[0;34m)\u001b[0m\u001b[0;34m:\u001b[0m\u001b[0;34m\u001b[0m\u001b[0;34m\u001b[0m\u001b[0m\n\u001b[1;32m    232\u001b[0m     \u001b[0mmsg\u001b[0m \u001b[0;34m=\u001b[0m \u001b[0;34m'Cannot find file: {}'\u001b[0m\u001b[0;34m.\u001b[0m\u001b[0mformat\u001b[0m\u001b[0;34m(\u001b[0m\u001b[0mfilename\u001b[0m\u001b[0;34m)\u001b[0m\u001b[0;34m\u001b[0m\u001b[0;34m\u001b[0m\u001b[0m\n\u001b[0;32m--> 233\u001b[0;31m     \u001b[0;32mraise\u001b[0m \u001b[0mFileNotFoundError\u001b[0m\u001b[0;34m(\u001b[0m\u001b[0mmsg\u001b[0m\u001b[0;34m)\u001b[0m  \u001b[0;31m# pylint: disable=undefined-variable\u001b[0m\u001b[0;34m\u001b[0m\u001b[0;34m\u001b[0m\u001b[0m\n\u001b[0m\u001b[1;32m    234\u001b[0m \u001b[0;34m\u001b[0m\u001b[0m\n\u001b[1;32m    235\u001b[0m   \u001b[0mcomm_manager\u001b[0m \u001b[0;34m=\u001b[0m \u001b[0m_IPython\u001b[0m\u001b[0;34m.\u001b[0m\u001b[0mget_ipython\u001b[0m\u001b[0;34m(\u001b[0m\u001b[0;34m)\u001b[0m\u001b[0;34m.\u001b[0m\u001b[0mkernel\u001b[0m\u001b[0;34m.\u001b[0m\u001b[0mcomm_manager\u001b[0m\u001b[0;34m\u001b[0m\u001b[0;34m\u001b[0m\u001b[0m\n",
            "\u001b[0;31mFileNotFoundError\u001b[0m: Cannot find file: /content/datav3.zip"
          ]
        }
      ],
      "source": [
        "!zip -r /content/data.zip /content/output\n",
        "from google.colab import files\n",
        "files.download(r'/content/data.zip')"
      ]
    },
    {
      "cell_type": "code",
      "execution_count": null,
      "metadata": {
        "id": "oEC1npPT7r_o"
      },
      "outputs": [],
      "source": [
        "# # if you want to delete a folder use the code below.\n",
        "# !rm -rf /content/output\n",
        "# !rm -rf /content/tifs\n",
        "# !rm -rf /content/data.zip"
      ]
    }
  ],
  "metadata": {
    "colab": {
      "provenance": [],
      "include_colab_link": true
    },
    "kernelspec": {
      "display_name": "Python 3",
      "name": "python3"
    },
    "language_info": {
      "name": "python"
    }
  },
  "nbformat": 4,
  "nbformat_minor": 0
}
